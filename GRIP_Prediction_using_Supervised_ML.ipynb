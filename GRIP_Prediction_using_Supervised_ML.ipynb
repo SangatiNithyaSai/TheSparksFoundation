{
  "nbformat": 4,
  "nbformat_minor": 0,
  "metadata": {
    "colab": {
      "name": "GRIP Prediction using Supervised ML.ipynb",
      "provenance": [],
      "collapsed_sections": [],
      "authorship_tag": "ABX9TyN+OjUSlsLssfLnMXDFXP78",
      "include_colab_link": true
    },
    "kernelspec": {
      "name": "python3",
      "display_name": "Python 3"
    },
    "language_info": {
      "name": "python"
    }
  },
  "cells": [
    {
      "cell_type": "markdown",
      "metadata": {
        "id": "view-in-github",
        "colab_type": "text"
      },
      "source": [
        "<a href=\"https://colab.research.google.com/github/SangatiNithyaSai/TheSparksFoundation/blob/main/GRIP_Prediction_using_Supervised_ML.ipynb\" target=\"_parent\"><img src=\"https://colab.research.google.com/assets/colab-badge.svg\" alt=\"Open In Colab\"/></a>"
      ]
    },
    {
      "cell_type": "markdown",
      "metadata": {
        "id": "QLj6h07V5qje"
      },
      "source": [
        "NAME:SANGATI NITHYA SAI TEJA REDDY\n"
      ]
    },
    {
      "cell_type": "markdown",
      "metadata": {
        "id": "UIGi37Jcoe8O"
      },
      "source": [
        "#TASK1 Prediction using Supervised ML"
      ]
    },
    {
      "cell_type": "markdown",
      "metadata": {
        "id": "QXVDGf53lobo"
      },
      "source": [
        "Importing <b>Pandas</b> Module which helps in reading data,numpy for mathematical operations,and matplotlib for visualizing the data.\n"
      ]
    },
    {
      "cell_type": "code",
      "metadata": {
        "id": "nuxyWHDLUiDt"
      },
      "source": [
        "import pandas as pd\n",
        "import matplotlib.pyplot as plt\n",
        "import numpy as np"
      ],
      "execution_count": null,
      "outputs": []
    },
    {
      "cell_type": "markdown",
      "metadata": {
        "id": "krV7Rppo7X17"
      },
      "source": [
        "Reading the data from the url.\n"
      ]
    },
    {
      "cell_type": "code",
      "metadata": {
        "id": "BEMUQOqEknY6"
      },
      "source": [
        "\n",
        "data=pd.read_csv(\"https://raw.githubusercontent.com/AdiPersonalWorks/Random/master/student_scores%20-%20student_scores.csv\")"
      ],
      "execution_count": null,
      "outputs": []
    },
    {
      "cell_type": "code",
      "metadata": {
        "colab": {
          "base_uri": "https://localhost:8080/",
          "height": 203
        },
        "id": "G9EV2kuMleAS",
        "outputId": "e8fb0427-51d6-4f67-cdb5-456b4fc6bdd0"
      },
      "source": [
        "data.head()"
      ],
      "execution_count": null,
      "outputs": [
        {
          "output_type": "execute_result",
          "data": {
            "text/html": [
              "<div>\n",
              "<style scoped>\n",
              "    .dataframe tbody tr th:only-of-type {\n",
              "        vertical-align: middle;\n",
              "    }\n",
              "\n",
              "    .dataframe tbody tr th {\n",
              "        vertical-align: top;\n",
              "    }\n",
              "\n",
              "    .dataframe thead th {\n",
              "        text-align: right;\n",
              "    }\n",
              "</style>\n",
              "<table border=\"1\" class=\"dataframe\">\n",
              "  <thead>\n",
              "    <tr style=\"text-align: right;\">\n",
              "      <th></th>\n",
              "      <th>Hours</th>\n",
              "      <th>Scores</th>\n",
              "    </tr>\n",
              "  </thead>\n",
              "  <tbody>\n",
              "    <tr>\n",
              "      <th>0</th>\n",
              "      <td>2.5</td>\n",
              "      <td>21</td>\n",
              "    </tr>\n",
              "    <tr>\n",
              "      <th>1</th>\n",
              "      <td>5.1</td>\n",
              "      <td>47</td>\n",
              "    </tr>\n",
              "    <tr>\n",
              "      <th>2</th>\n",
              "      <td>3.2</td>\n",
              "      <td>27</td>\n",
              "    </tr>\n",
              "    <tr>\n",
              "      <th>3</th>\n",
              "      <td>8.5</td>\n",
              "      <td>75</td>\n",
              "    </tr>\n",
              "    <tr>\n",
              "      <th>4</th>\n",
              "      <td>3.5</td>\n",
              "      <td>30</td>\n",
              "    </tr>\n",
              "  </tbody>\n",
              "</table>\n",
              "</div>"
            ],
            "text/plain": [
              "   Hours  Scores\n",
              "0    2.5      21\n",
              "1    5.1      47\n",
              "2    3.2      27\n",
              "3    8.5      75\n",
              "4    3.5      30"
            ]
          },
          "metadata": {
            "tags": []
          },
          "execution_count": 4
        }
      ]
    },
    {
      "cell_type": "code",
      "metadata": {
        "colab": {
          "base_uri": "https://localhost:8080/"
        },
        "id": "BGfPY7BU6EbW",
        "outputId": "1928ee03-74f3-4803-b0d3-caf890014862"
      },
      "source": [
        "data.info()"
      ],
      "execution_count": null,
      "outputs": [
        {
          "output_type": "stream",
          "text": [
            "<class 'pandas.core.frame.DataFrame'>\n",
            "RangeIndex: 25 entries, 0 to 24\n",
            "Data columns (total 2 columns):\n",
            " #   Column  Non-Null Count  Dtype  \n",
            "---  ------  --------------  -----  \n",
            " 0   Hours   25 non-null     float64\n",
            " 1   Scores  25 non-null     int64  \n",
            "dtypes: float64(1), int64(1)\n",
            "memory usage: 528.0 bytes\n"
          ],
          "name": "stdout"
        }
      ]
    },
    {
      "cell_type": "markdown",
      "metadata": {
        "id": "XghqhfpY7eP3"
      },
      "source": [
        "As the info shows us that there is no null values and we can see that the data does not have any anamolies,we can proceed without preprocessing.\n"
      ]
    },
    {
      "cell_type": "markdown",
      "metadata": {
        "id": "sLoOF2FuPdvH"
      },
      "source": [
        "Visualizing the data\n"
      ]
    },
    {
      "cell_type": "code",
      "metadata": {
        "colab": {
          "base_uri": "https://localhost:8080/",
          "height": 295
        },
        "id": "bEUejnP0PcoM",
        "outputId": "3c561d78-46e2-47c3-a689-151a22f0de1f"
      },
      "source": [
        "\n",
        "data.plot(x='Hours',y='Scores',style='d')\n",
        "plt.xlabel(\"Hours of Study\")\n",
        "plt.ylabel(\"Scores Secured\")\n",
        "plt.title(\"Hours vs Scores secured\")\n",
        "plt.grid(True)\n",
        "plt.show()"
      ],
      "execution_count": null,
      "outputs": [
        {
          "output_type": "display_data",
          "data": {
            "image/png": "[encoded data removed]",
            "text/plain": [
              "<Figure size 432x288 with 1 Axes>"
            ]
          },
          "metadata": {
            "tags": [],
            "needs_background": "light"
          }
        }
      ]
    },
    {
      "cell_type": "markdown",
      "metadata": {
        "id": "2t_lTxwu8BKm"
      },
      "source": [
        "The above graphs shows that score is directly proportional to the Study Hours,Let us find the regression line for this data."
      ]
    },
    {
      "cell_type": "markdown",
      "metadata": {
        "id": "Ywczx10V8TJY"
      },
      "source": [
        "## Preparing the data."
      ]
    },
    {
      "cell_type": "code",
      "metadata": {
        "id": "g92OsEtRmqGu"
      },
      "source": [
        "x=data.iloc[:,:-1].values\n",
        "y=data.iloc[:,1].values"
      ],
      "execution_count": null,
      "outputs": []
    },
    {
      "cell_type": "markdown",
      "metadata": {
        "id": "GHyWzf1ZnqOA"
      },
      "source": [
        "# Splitting the data for model training"
      ]
    },
    {
      "cell_type": "code",
      "metadata": {
        "id": "dR9reZoGljeg"
      },
      "source": [
        "from sklearn.model_selection import train_test_split\n",
        "x_train,x_test,y_train,y_test=train_test_split(x,y,test_size=.3,random_state=0)\n"
      ],
      "execution_count": null,
      "outputs": []
    },
    {
      "cell_type": "code",
      "metadata": {
        "colab": {
          "base_uri": "https://localhost:8080/"
        },
        "id": "KL_RNYMvoKJm",
        "outputId": "b14fbe25-0585-400b-d20a-9a09d23aec79"
      },
      "source": [
        "from sklearn.linear_model import LinearRegression  #importing LR model\n",
        "reg=LinearRegression()\n",
        "reg.fit(x_train,y_train)"
      ],
      "execution_count": null,
      "outputs": [
        {
          "output_type": "execute_result",
          "data": {
            "text/plain": [
              "LinearRegression(copy_X=True, fit_intercept=True, n_jobs=None, normalize=False)"
            ]
          },
          "metadata": {
            "tags": []
          },
          "execution_count": 31
        }
      ]
    },
    {
      "cell_type": "markdown",
      "metadata": {
        "id": "yhjWQ9IupaAF"
      },
      "source": [
        "#Training Done\n",
        "Now we get the values like x-coefficient and y-intercept.\n",
        "From this values we can see how the line fits for data."
      ]
    },
    {
      "cell_type": "code",
      "metadata": {
        "colab": {
          "base_uri": "https://localhost:8080/",
          "height": 265
        },
        "id": "TPQKkudOV8S9",
        "outputId": "8783130b-4f78-4067-a07f-4a0253e15ea4"
      },
      "source": [
        "line =reg.coef_*x+reg.intercept_\n",
        "\n",
        "plt.scatter(x,y)\n",
        "plt.plot(x,line)\n",
        "plt.grid(True)\n",
        "plt.show()"
      ],
      "execution_count": null,
      "outputs": [
        {
          "output_type": "display_data",
          "data": {
            "image/png": "[encoded data removed]",
            "text/plain": [
              "<Figure size 432x288 with 1 Axes>"
            ]
          },
          "metadata": {
            "tags": [],
            "needs_background": "light"
          }
        }
      ]
    },
    {
      "cell_type": "code",
      "metadata": {
        "colab": {
          "base_uri": "https://localhost:8080/"
        },
        "id": "bacC92WwXKQc",
        "outputId": "6f6ef1ab-b029-431b-98a5-59dce5149e8d"
      },
      "source": [
        "print(x_test)\n",
        "y_pred=reg.predict(x_test)"
      ],
      "execution_count": null,
      "outputs": [
        {
          "output_type": "stream",
          "text": [
            "[[1.5]\n",
            " [3.2]\n",
            " [7.4]\n",
            " [2.5]\n",
            " [5.9]\n",
            " [3.8]\n",
            " [1.9]\n",
            " [7.8]]\n"
          ],
          "name": "stdout"
        }
      ]
    },
    {
      "cell_type": "code",
      "metadata": {
        "colab": {
          "base_uri": "https://localhost:8080/"
        },
        "id": "YOyRj1tNXbU2",
        "outputId": "0fa32f28-b65d-4bfc-b464-a59850c4468e"
      },
      "source": [
        "df=pd.DataFrame({\"Actual\":y_test,\"predicted\":y_pred})\n",
        "print(df)"
      ],
      "execution_count": null,
      "outputs": [
        {
          "output_type": "stream",
          "text": [
            "   Actual  predicted\n",
            "0      20  17.053665\n",
            "1      27  33.694229\n",
            "2      69  74.806209\n",
            "3      30  26.842232\n",
            "4      62  60.123359\n",
            "5      35  39.567369\n",
            "6      24  20.969092\n",
            "7      86  78.721636\n"
          ],
          "name": "stdout"
        }
      ]
    },
    {
      "cell_type": "markdown",
      "metadata": {
        "id": "MSW7YBi4oxoC"
      },
      "source": [
        "The above data tells us with how much difference the model predicts."
      ]
    },
    {
      "cell_type": "markdown",
      "metadata": {
        "id": "zVUwez18o-iJ"
      },
      "source": [
        "#Finding the score secured for 9.25 study hours.\n"
      ]
    },
    {
      "cell_type": "code",
      "metadata": {
        "colab": {
          "base_uri": "https://localhost:8080/"
        },
        "id": "jrStT4w-XtHi",
        "outputId": "455acaa5-239e-4dbc-d5a1-132052d7cd88"
      },
      "source": [
        "hours= [[9.25]]\n",
        "score=reg.predict(hours)\n",
        "print(\"Hours Studied=\",hours)\n",
        "print(\"Score can be gained=\",score)"
      ],
      "execution_count": null,
      "outputs": [
        {
          "output_type": "stream",
          "text": [
            "Hours Studied= [[9.25]]\n",
            "Score can be gained= [92.91505723]\n"
          ],
          "name": "stdout"
        }
      ]
    },
    {
      "cell_type": "code",
      "metadata": {
        "colab": {
          "base_uri": "https://localhost:8080/"
        },
        "id": "Igly0AGzYywE",
        "outputId": "5eaec796-aae8-4dec-e09f-f500fbc72b41"
      },
      "source": [
        "from sklearn import metrics\n",
        "print(\"Mean Absolute Error:\",metrics.mean_absolute_error(y_pred,y_test))"
      ],
      "execution_count": null,
      "outputs": [
        {
          "output_type": "stream",
          "text": [
            "Mean Absolute Error: 4.419727808027651\n"
          ],
          "name": "stdout"
        }
      ]
    },
    {
      "cell_type": "markdown",
      "metadata": {
        "id": "MiJ5cv3TpGgk"
      },
      "source": [
        "Mean absolute error tells us about the difference with which the model predicts the output and the true values."
      ]
    }
  ]
}